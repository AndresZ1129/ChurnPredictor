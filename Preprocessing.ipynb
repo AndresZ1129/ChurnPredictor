{
 "cells": [
  {
   "cell_type": "code",
   "execution_count": 4,
   "metadata": {},
   "outputs": [],
   "source": [
    "import pandas as pd\n",
    "import numpy as np\n",
    "from sklearn.preprocessing import LabelEncoder, StandardScaler"
   ]
  },
  {
   "cell_type": "code",
   "execution_count": null,
   "metadata": {},
   "outputs": [
    {
     "data": {
      "text/html": [
       "<style type=\"text/css\">\n",
       "</style>\n",
       "<table id=\"T_2abdb\">\n",
       "  <thead>\n",
       "    <tr>\n",
       "      <th class=\"blank level0\" >&nbsp;</th>\n",
       "      <th id=\"T_2abdb_level0_col0\" class=\"col_heading level0 col0\" >SeniorCitizen</th>\n",
       "      <th id=\"T_2abdb_level0_col1\" class=\"col_heading level0 col1\" >tenure</th>\n",
       "      <th id=\"T_2abdb_level0_col2\" class=\"col_heading level0 col2\" >MonthlyCharges</th>\n",
       "      <th id=\"T_2abdb_level0_col3\" class=\"col_heading level0 col3\" >TotalCharges</th>\n",
       "    </tr>\n",
       "  </thead>\n",
       "  <tbody>\n",
       "    <tr>\n",
       "      <th id=\"T_2abdb_level0_row0\" class=\"row_heading level0 row0\" >count</th>\n",
       "      <td id=\"T_2abdb_row0_col0\" class=\"data row0 col0\" >7043.0</td>\n",
       "      <td id=\"T_2abdb_row0_col1\" class=\"data row0 col1\" >7043.0</td>\n",
       "      <td id=\"T_2abdb_row0_col2\" class=\"data row0 col2\" >7043.0</td>\n",
       "      <td id=\"T_2abdb_row0_col3\" class=\"data row0 col3\" >7032.0</td>\n",
       "    </tr>\n",
       "    <tr>\n",
       "      <th id=\"T_2abdb_level0_row1\" class=\"row_heading level0 row1\" >mean</th>\n",
       "      <td id=\"T_2abdb_row1_col0\" class=\"data row1 col0\" >0.2</td>\n",
       "      <td id=\"T_2abdb_row1_col1\" class=\"data row1 col1\" >32.4</td>\n",
       "      <td id=\"T_2abdb_row1_col2\" class=\"data row1 col2\" >64.8</td>\n",
       "      <td id=\"T_2abdb_row1_col3\" class=\"data row1 col3\" >2283.3</td>\n",
       "    </tr>\n",
       "    <tr>\n",
       "      <th id=\"T_2abdb_level0_row2\" class=\"row_heading level0 row2\" >std</th>\n",
       "      <td id=\"T_2abdb_row2_col0\" class=\"data row2 col0\" >0.4</td>\n",
       "      <td id=\"T_2abdb_row2_col1\" class=\"data row2 col1\" >24.6</td>\n",
       "      <td id=\"T_2abdb_row2_col2\" class=\"data row2 col2\" >30.1</td>\n",
       "      <td id=\"T_2abdb_row2_col3\" class=\"data row2 col3\" >2266.8</td>\n",
       "    </tr>\n",
       "    <tr>\n",
       "      <th id=\"T_2abdb_level0_row3\" class=\"row_heading level0 row3\" >min</th>\n",
       "      <td id=\"T_2abdb_row3_col0\" class=\"data row3 col0\" >0.0</td>\n",
       "      <td id=\"T_2abdb_row3_col1\" class=\"data row3 col1\" >0.0</td>\n",
       "      <td id=\"T_2abdb_row3_col2\" class=\"data row3 col2\" >18.2</td>\n",
       "      <td id=\"T_2abdb_row3_col3\" class=\"data row3 col3\" >18.8</td>\n",
       "    </tr>\n",
       "    <tr>\n",
       "      <th id=\"T_2abdb_level0_row4\" class=\"row_heading level0 row4\" >25%</th>\n",
       "      <td id=\"T_2abdb_row4_col0\" class=\"data row4 col0\" >0.0</td>\n",
       "      <td id=\"T_2abdb_row4_col1\" class=\"data row4 col1\" >9.0</td>\n",
       "      <td id=\"T_2abdb_row4_col2\" class=\"data row4 col2\" >35.5</td>\n",
       "      <td id=\"T_2abdb_row4_col3\" class=\"data row4 col3\" >401.4</td>\n",
       "    </tr>\n",
       "    <tr>\n",
       "      <th id=\"T_2abdb_level0_row5\" class=\"row_heading level0 row5\" >50%</th>\n",
       "      <td id=\"T_2abdb_row5_col0\" class=\"data row5 col0\" >0.0</td>\n",
       "      <td id=\"T_2abdb_row5_col1\" class=\"data row5 col1\" >29.0</td>\n",
       "      <td id=\"T_2abdb_row5_col2\" class=\"data row5 col2\" >70.3</td>\n",
       "      <td id=\"T_2abdb_row5_col3\" class=\"data row5 col3\" >1397.5</td>\n",
       "    </tr>\n",
       "    <tr>\n",
       "      <th id=\"T_2abdb_level0_row6\" class=\"row_heading level0 row6\" >75%</th>\n",
       "      <td id=\"T_2abdb_row6_col0\" class=\"data row6 col0\" >0.0</td>\n",
       "      <td id=\"T_2abdb_row6_col1\" class=\"data row6 col1\" >55.0</td>\n",
       "      <td id=\"T_2abdb_row6_col2\" class=\"data row6 col2\" >89.8</td>\n",
       "      <td id=\"T_2abdb_row6_col3\" class=\"data row6 col3\" >3794.7</td>\n",
       "    </tr>\n",
       "    <tr>\n",
       "      <th id=\"T_2abdb_level0_row7\" class=\"row_heading level0 row7\" >max</th>\n",
       "      <td id=\"T_2abdb_row7_col0\" class=\"data row7 col0\" >1.0</td>\n",
       "      <td id=\"T_2abdb_row7_col1\" class=\"data row7 col1\" >72.0</td>\n",
       "      <td id=\"T_2abdb_row7_col2\" class=\"data row7 col2\" >118.8</td>\n",
       "      <td id=\"T_2abdb_row7_col3\" class=\"data row7 col3\" >8684.8</td>\n",
       "    </tr>\n",
       "  </tbody>\n",
       "</table>\n"
      ],
      "text/plain": [
       "<pandas.io.formats.style.Styler at 0x18cea220850>"
      ]
     },
     "execution_count": 7,
     "metadata": {},
     "output_type": "execute_result"
    }
   ],
   "source": [
    "df = pd.read_csv(\"Telco-Customer-Churn.csv\")\n",
    "\n",
    "df.drop(['customerID'], axis=1, inplace=True) # Dropping the column 'customerID' because it is not useful for predicting\n",
    "\n",
    "df['TotalCharges'] = pd.to_numeric(df['TotalCharges'], errors='coerce') # Converts 'TotalCharges' to numerical values and non-numeric values become NaN\n",
    "df['TotalCharges'].fillna(df['TotalCharges'].median()) # Fills missing values with median\n",
    "\n",
    "# Converts Yes/No categorical columns into binary values (mapping Yes as 1, No as 0)\n",
    "binary_cols = ['Partner', 'Dependents', 'PhoneService', 'PaperlessBilling', 'Churn'] \n",
    "for col in binary_cols:\n",
    "    df[col] = df[col].map({'Yes': 1, 'No': 0})\n",
    "\n",
    "df['SeniorCitizen'] = df['SeniorCitizen'].map({0: 'No', 1: 'Yes'}) # Converts 'SeniorCitizen' from '0' and '1' to 'No' and 'Yes'\n",
    "\n",
    "df = pd.get_dummies(df, columns=['gender', 'InternetService', 'Contract', 'PaymentMethod']) # Encoding categorical variables into binary categories\n",
    "\n",
    "# Normalize/standardize numerical features by using StandardScaler by scaling them\n",
    "scaler = StandardScaler()\n",
    "num_cols = ['MonthlyCharges', 'TotalCharges']\n",
    "df[num_cols] = scaler.fit_transform(df[num_cols])\n",
    "\n",
    "pd.options.display.max_columns = None # Use this option to display all columns\n",
    "df.describe().style.format(\"{:.1f}\")  # I use .style.format(\"{:.1f}\") to make the output more concise"
   ]
  }
 ],
 "metadata": {
  "kernelspec": {
   "display_name": ".venv",
   "language": "python",
   "name": "python3"
  },
  "language_info": {
   "codemirror_mode": {
    "name": "ipython",
    "version": 3
   },
   "file_extension": ".py",
   "mimetype": "text/x-python",
   "name": "python",
   "nbconvert_exporter": "python",
   "pygments_lexer": "ipython3",
   "version": "3.11.9"
  }
 },
 "nbformat": 4,
 "nbformat_minor": 2
}
