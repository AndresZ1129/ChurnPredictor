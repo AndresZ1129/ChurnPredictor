{
 "cells": [
  {
   "cell_type": "code",
   "execution_count": 1,
   "metadata": {},
   "outputs": [],
   "source": [
    "import pandas as pd\n",
    "import numpy as np"
   ]
  },
  {
   "cell_type": "code",
   "execution_count": 2,
   "metadata": {},
   "outputs": [
    {
     "data": {
      "text/html": [
       "<style type=\"text/css\">\n",
       "</style>\n",
       "<table id=\"T_3cead\">\n",
       "  <thead>\n",
       "    <tr>\n",
       "      <th class=\"blank level0\" >&nbsp;</th>\n",
       "      <th id=\"T_3cead_level0_col0\" class=\"col_heading level0 col0\" >SeniorCitizen</th>\n",
       "      <th id=\"T_3cead_level0_col1\" class=\"col_heading level0 col1\" >tenure</th>\n",
       "      <th id=\"T_3cead_level0_col2\" class=\"col_heading level0 col2\" >MonthlyCharges</th>\n",
       "    </tr>\n",
       "  </thead>\n",
       "  <tbody>\n",
       "    <tr>\n",
       "      <th id=\"T_3cead_level0_row0\" class=\"row_heading level0 row0\" >count</th>\n",
       "      <td id=\"T_3cead_row0_col0\" class=\"data row0 col0\" >7043.0</td>\n",
       "      <td id=\"T_3cead_row0_col1\" class=\"data row0 col1\" >7043.0</td>\n",
       "      <td id=\"T_3cead_row0_col2\" class=\"data row0 col2\" >7043.0</td>\n",
       "    </tr>\n",
       "    <tr>\n",
       "      <th id=\"T_3cead_level0_row1\" class=\"row_heading level0 row1\" >mean</th>\n",
       "      <td id=\"T_3cead_row1_col0\" class=\"data row1 col0\" >0.2</td>\n",
       "      <td id=\"T_3cead_row1_col1\" class=\"data row1 col1\" >32.4</td>\n",
       "      <td id=\"T_3cead_row1_col2\" class=\"data row1 col2\" >64.8</td>\n",
       "    </tr>\n",
       "    <tr>\n",
       "      <th id=\"T_3cead_level0_row2\" class=\"row_heading level0 row2\" >std</th>\n",
       "      <td id=\"T_3cead_row2_col0\" class=\"data row2 col0\" >0.4</td>\n",
       "      <td id=\"T_3cead_row2_col1\" class=\"data row2 col1\" >24.6</td>\n",
       "      <td id=\"T_3cead_row2_col2\" class=\"data row2 col2\" >30.1</td>\n",
       "    </tr>\n",
       "    <tr>\n",
       "      <th id=\"T_3cead_level0_row3\" class=\"row_heading level0 row3\" >min</th>\n",
       "      <td id=\"T_3cead_row3_col0\" class=\"data row3 col0\" >0.0</td>\n",
       "      <td id=\"T_3cead_row3_col1\" class=\"data row3 col1\" >0.0</td>\n",
       "      <td id=\"T_3cead_row3_col2\" class=\"data row3 col2\" >18.2</td>\n",
       "    </tr>\n",
       "    <tr>\n",
       "      <th id=\"T_3cead_level0_row4\" class=\"row_heading level0 row4\" >25%</th>\n",
       "      <td id=\"T_3cead_row4_col0\" class=\"data row4 col0\" >0.0</td>\n",
       "      <td id=\"T_3cead_row4_col1\" class=\"data row4 col1\" >9.0</td>\n",
       "      <td id=\"T_3cead_row4_col2\" class=\"data row4 col2\" >35.5</td>\n",
       "    </tr>\n",
       "    <tr>\n",
       "      <th id=\"T_3cead_level0_row5\" class=\"row_heading level0 row5\" >50%</th>\n",
       "      <td id=\"T_3cead_row5_col0\" class=\"data row5 col0\" >0.0</td>\n",
       "      <td id=\"T_3cead_row5_col1\" class=\"data row5 col1\" >29.0</td>\n",
       "      <td id=\"T_3cead_row5_col2\" class=\"data row5 col2\" >70.3</td>\n",
       "    </tr>\n",
       "    <tr>\n",
       "      <th id=\"T_3cead_level0_row6\" class=\"row_heading level0 row6\" >75%</th>\n",
       "      <td id=\"T_3cead_row6_col0\" class=\"data row6 col0\" >0.0</td>\n",
       "      <td id=\"T_3cead_row6_col1\" class=\"data row6 col1\" >55.0</td>\n",
       "      <td id=\"T_3cead_row6_col2\" class=\"data row6 col2\" >89.8</td>\n",
       "    </tr>\n",
       "    <tr>\n",
       "      <th id=\"T_3cead_level0_row7\" class=\"row_heading level0 row7\" >max</th>\n",
       "      <td id=\"T_3cead_row7_col0\" class=\"data row7 col0\" >1.0</td>\n",
       "      <td id=\"T_3cead_row7_col1\" class=\"data row7 col1\" >72.0</td>\n",
       "      <td id=\"T_3cead_row7_col2\" class=\"data row7 col2\" >118.8</td>\n",
       "    </tr>\n",
       "  </tbody>\n",
       "</table>\n"
      ],
      "text/plain": [
       "<pandas.io.formats.style.Styler at 0x1c9e13ebf80>"
      ]
     },
     "execution_count": 2,
     "metadata": {},
     "output_type": "execute_result"
    }
   ],
   "source": [
    "df = pd.read_csv(\"Telco-Customer-Churn.csv\")\n",
    "\n",
    "pd.options.display.max_columns = None # Use this option to display all columns\n",
    "df.describe().style.format(\"{:.1f}\")  # I use .style.format(\"{:.1f}\") to make the output more concise"
   ]
  }
 ],
 "metadata": {
  "kernelspec": {
   "display_name": ".venv",
   "language": "python",
   "name": "python3"
  },
  "language_info": {
   "codemirror_mode": {
    "name": "ipython",
    "version": 3
   },
   "file_extension": ".py",
   "mimetype": "text/x-python",
   "name": "python",
   "nbconvert_exporter": "python",
   "pygments_lexer": "ipython3",
   "version": "3.12.6"
  }
 },
 "nbformat": 4,
 "nbformat_minor": 2
}
